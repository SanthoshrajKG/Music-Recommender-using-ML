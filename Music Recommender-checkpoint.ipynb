{
 "cells": [
  {
   "cell_type": "code",
   "execution_count": null,
   "id": "cc4c63fd",
   "metadata": {},
   "outputs": [],
   "source": [
    "Author: Santhoshraj KG"
   ]
  },
  {
   "cell_type": "code",
   "execution_count": 1,
   "id": "7d291151",
   "metadata": {},
   "outputs": [],
   "source": [
    "import pandas as pd"
   ]
  },
  {
   "cell_type": "code",
   "execution_count": 75,
   "id": "3419904e",
   "metadata": {},
   "outputs": [],
   "source": [
    "from sklearn.tree import DecisionTreeClassifier\n",
    "from sklearn.model_selection import train_test_split\n",
    "from sklearn.metrics import accuracy_score\n",
    "from sklearn import tree\n",
    "import joblib"
   ]
  },
  {
   "cell_type": "code",
   "execution_count": 63,
   "id": "9b80e64e",
   "metadata": {},
   "outputs": [],
   "source": [
    "music_data=pd.read_csv('music.csv')\n",
    "x=music_data.drop(columns=['genre'])\n",
    "y=music_data['genre']\n",
    "x_train,x_test,y_train,y_test=train_test_split(x,y,test_size=0.3)"
   ]
  },
  {
   "cell_type": "code",
   "execution_count": 77,
   "id": "12ee4f73",
   "metadata": {},
   "outputs": [
    {
     "data": {
      "text/plain": [
       "0.5"
      ]
     },
     "execution_count": 77,
     "metadata": {},
     "output_type": "execute_result"
    }
   ],
   "source": [
    "model=DecisionTreeClassifier()\n",
    "model.fit(x_train,y_train)\n",
    "tree.export_graphviz(model,'music_Recommendor.dot',\n",
    "                     feature_names=['age','gender'],\n",
    "                     class_names=sorted(y.unique()),\n",
    "                     label='all',\n",
    "                     rounded=True,\n",
    "                     filled=True)\n",
    "prediction=model.predict(x_test)\n",
    "accuracy=accuracy_score(prediction,y_test)\n",
    "accuracy"
   ]
  },
  {
   "cell_type": "code",
   "execution_count": null,
   "id": "149ac36b",
   "metadata": {},
   "outputs": [],
   "source": []
  }
 ],
 "metadata": {
  "kernelspec": {
   "display_name": "Python 3 (ipykernel)",
   "language": "python",
   "name": "python3"
  },
  "language_info": {
   "codemirror_mode": {
    "name": "ipython",
    "version": 3
   },
   "file_extension": ".py",
   "mimetype": "text/x-python",
   "name": "python",
   "nbconvert_exporter": "python",
   "pygments_lexer": "ipython3",
   "version": "3.9.5"
  }
 },
 "nbformat": 4,
 "nbformat_minor": 5
}
